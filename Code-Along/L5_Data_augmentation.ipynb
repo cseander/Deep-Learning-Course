{
 "cells": [
  {
   "cell_type": "markdown",
   "metadata": {},
   "source": [
    "# Data augmentation\n",
    "- artificiellt skapa fler bilder\n",
    "- slumpmässigt:\n",
    "    - roterar till en viss grad (radianer)\n",
    "    - translatera slumpmässigt\n",
    "    - flippa horisontellt, vertikalt (spegla)\n",
    "    - shear\n",
    "    - ..."
   ]
  },
  {
   "cell_type": "code",
   "execution_count": 1,
   "metadata": {},
   "outputs": [],
   "source": [
    "import seaborn as sns\n",
    "import numpy as np\n",
    "import matplotlib.pyplot as plt\n",
    "import pandas as pd\n",
    "from tensorflow.keras.datasets.mnist import  load_data"
   ]
  },
  {
   "cell_type": "code",
   "execution_count": 2,
   "metadata": {},
   "outputs": [
    {
     "data": {
      "image/png": "[encoded data removed]",
      "text/plain": [
       "<Figure size 720x288 with 10 Axes>"
      ]
     },
     "metadata": {
      "needs_background": "light"
     },
     "output_type": "display_data"
    }
   ],
   "source": [
    "(X_train, y_train), (X_test, y_test) = load_data()\n",
    "y_train, y_test = y_train.ravel(), y_test.ravel()\n",
    "\n",
    "def plot_samples(data):\n",
    "    fig, axes = plt.subplots(2, 5, figsize = (10, 4))\n",
    "    for i, ax in enumerate(axes.flatten()):\n",
    "        ax.imshow(data[i], cmap = \"gray\")\n",
    "        ax.axis(\"off\")\n",
    "\n",
    "plot_samples(X_train)"
   ]
  },
  {
   "cell_type": "code",
   "execution_count": 3,
   "metadata": {},
   "outputs": [],
   "source": [
    "X_train = X_train.astype(\"float32\") / 255\n",
    "X_test = X_test.astype(\"float32\") / 255"
   ]
  },
  {
   "cell_type": "markdown",
   "metadata": {},
   "source": [
    "# Train|val|test split"
   ]
  },
  {
   "cell_type": "code",
   "execution_count": 4,
   "metadata": {},
   "outputs": [
    {
     "data": {
      "text/plain": [
       "(50000, 28, 28, 1)"
      ]
     },
     "execution_count": 4,
     "metadata": {},
     "output_type": "execute_result"
    }
   ],
   "source": [
    "from sklearn.model_selection import train_test_split\n",
    "\n",
    "X_train_val, X_val, y_train_val, y_val = train_test_split(X_train, y_train, test_size=1/6, random_state=42)\n",
    "\n",
    "X_train_val = X_train_val[:,:,:,None]\n",
    "X_train = X_train[:,:,:,None]\n",
    "X_val = X_val[:,:,:,None]\n",
    "X_test = X_test[:,:,:,None]\n",
    "\n",
    "\n",
    "X_train_val.shape"
   ]
  },
  {
   "cell_type": "markdown",
   "metadata": {},
   "source": [
    "# Data augmentation"
   ]
  },
  {
   "cell_type": "code",
   "execution_count": 5,
   "metadata": {},
   "outputs": [],
   "source": [
    "from tensorflow.keras.preprocessing.image import ImageDataGenerator"
   ]
  },
  {
   "cell_type": "code",
   "execution_count": 6,
   "metadata": {},
   "outputs": [
    {
     "data": {
      "text/plain": [
       "(<keras.preprocessing.image.NumpyArrayIterator at 0x1dd1d045790>,\n",
       " <keras.preprocessing.image.NumpyArrayIterator at 0x1dd16bf9640>)"
      ]
     },
     "execution_count": 6,
     "metadata": {},
     "output_type": "execute_result"
    }
   ],
   "source": [
    "train_image_generator = ImageDataGenerator(\n",
    "    rotation_range = 10,\n",
    "    shear_range = .2,\n",
    "    zoom_range = .1,\n",
    "    horizontal_flip = False,\n",
    "    height_shift_range = .2,\n",
    "    width_shift_range = .2\n",
    ")\n",
    "\n",
    "# don't augment validation and test data\n",
    "test_image_generator = ImageDataGenerator()\n",
    "\n",
    "train_val_generator = train_image_generator.flow(X_train_val, y_train_val, batch_size = 32)\n",
    "val_generator = test_image_generator.flow(X_val, y_val, batch_size = 32)\n",
    "\n",
    "train_val_generator, val_generator"
   ]
  },
  {
   "cell_type": "code",
   "execution_count": 7,
   "metadata": {},
   "outputs": [
    {
     "name": "stdout",
     "output_type": "stream",
     "text": [
      "2\n",
      "(32, 28, 28, 1)\n"
     ]
    },
    {
     "data": {
      "text/plain": [
       "array([0, 2, 3, 2, 1, 7, 0, 8, 9, 2, 1, 8, 0, 7, 9, 4, 8, 5, 6, 8, 0, 6,\n",
       "       5, 1, 9, 7, 2, 1, 0, 3, 4, 2], dtype=uint8)"
      ]
     },
     "execution_count": 7,
     "metadata": {},
     "output_type": "execute_result"
    },
    {
     "data": {
      "image/png": "[encoded data removed]",
      "text/plain": [
       "<Figure size 720x288 with 10 Axes>"
      ]
     },
     "metadata": {
      "needs_background": "light"
     },
     "output_type": "display_data"
    }
   ],
   "source": [
    "print(len(train_val_generator.next()))\n",
    "\n",
    "sample_batch = train_val_generator.next()\n",
    "print(sample_batch[0].shape) # 32 samples in a batch\n",
    "\n",
    "plot_samples(sample_batch[0])\n",
    "sample_batch[1]"
   ]
  },
  {
   "cell_type": "markdown",
   "metadata": {},
   "source": [
    "### CNN model"
   ]
  },
  {
   "cell_type": "code",
   "execution_count": 8,
   "metadata": {},
   "outputs": [],
   "source": [
    "from tensorflow.keras.models import Sequential\n",
    "from tensorflow.keras.layers import Dense, Conv2D, Flatten, Dropout, MaxPool2D\n",
    "from tensorflow.keras.optimizers import Adam"
   ]
  },
  {
   "cell_type": "code",
   "execution_count": 11,
   "metadata": {},
   "outputs": [
    {
     "name": "stdout",
     "output_type": "stream",
     "text": [
      "Model: \"CNN_model\"\n",
      "_________________________________________________________________\n",
      " Layer (type)                Output Shape              Param #   \n",
      "=================================================================\n",
      " conv2d_4 (Conv2D)           (None, 26, 26, 32)        320       \n",
      "                                                                 \n",
      " max_pooling2d_4 (MaxPooling  (None, 13, 13, 32)       0         \n",
      " 2D)                                                             \n",
      "                                                                 \n",
      " conv2d_5 (Conv2D)           (None, 11, 11, 32)        9248      \n",
      "                                                                 \n",
      " max_pooling2d_5 (MaxPooling  (None, 5, 5, 32)         0         \n",
      " 2D)                                                             \n",
      "                                                                 \n",
      " flatten_2 (Flatten)         (None, 800)               0         \n",
      "                                                                 \n",
      " dropout_2 (Dropout)         (None, 800)               0         \n",
      "                                                                 \n",
      " dense_4 (Dense)             (None, 256)               205056    \n",
      "                                                                 \n",
      " dense_5 (Dense)             (None, 10)                2570      \n",
      "                                                                 \n",
      "=================================================================\n",
      "Total params: 217,194\n",
      "Trainable params: 217,194\n",
      "Non-trainable params: 0\n",
      "_________________________________________________________________\n"
     ]
    }
   ],
   "source": [
    "def CNN_model(learning_rate = .001, drop_rate = .5, kernels = [32, 32]):\n",
    "    adam = Adam(learning_rate = learning_rate)\n",
    "    \n",
    "    model = Sequential(name = \"CNN_model\")\n",
    "    \n",
    "    # the convolutional layers\n",
    "    for number_kernel in kernels:\n",
    "        conv_layer = Conv2D(number_kernel, kernel_size = (3, 3), activation = \"relu\", kernel_initializer = \"he_normal\", input_shape = X_train.shape[1:])\n",
    "        \n",
    "        model.add(conv_layer)\n",
    "        model.add(MaxPool2D(pool_size = (2, 2), strides = 2))\n",
    "    \n",
    "    # MLP layers\n",
    "    model.add(Flatten())\n",
    "    model.add(Dropout(drop_rate))\n",
    "    model.add(Dense(256, activation = \"relu\",  kernel_initializer = \"he_normal\"))\n",
    "    model.add(Dense(10, activation = \"softmax\")) # output layer, 1 node per label\n",
    "    \n",
    "    model.compile(loss = \"sparse_categorical_crossentropy\", optimizer = adam, metrics = [\"acc\"])\n",
    "    \n",
    "    return model\n",
    "\n",
    "model = CNN_model(drop_rate = .5)\n",
    "model.summary()"
   ]
  },
  {
   "cell_type": "markdown",
   "metadata": {},
   "source": [
    "## Train on augmented data"
   ]
  },
  {
   "cell_type": "code",
   "execution_count": 17,
   "metadata": {},
   "outputs": [
    {
     "data": {
      "text/plain": [
       "(1562, 312)"
      ]
     },
     "execution_count": 17,
     "metadata": {},
     "output_type": "execute_result"
    }
   ],
   "source": [
    "steps_per_epoch = int(len(X_train_val) / 32)\n",
    "validation_steps = int(len(X_val) / 32)\n",
    "\n",
    "steps_per_epoch, validation_steps"
   ]
  },
  {
   "cell_type": "code",
   "execution_count": 18,
   "metadata": {},
   "outputs": [
    {
     "name": "stdout",
     "output_type": "stream",
     "text": [
      "Epoch 1/100\n",
      "1562/1562 [==============================] - 19s 7ms/step - loss: 0.6133 - acc: 0.8002 - val_loss: 0.1548 - val_acc: 0.9552\n",
      "Epoch 2/100\n",
      "1562/1562 [==============================] - 10s 6ms/step - loss: 0.2651 - acc: 0.9154 - val_loss: 0.0781 - val_acc: 0.9772\n",
      "Epoch 3/100\n",
      "1562/1562 [==============================] - 9s 6ms/step - loss: 0.2033 - acc: 0.9353 - val_loss: 0.0756 - val_acc: 0.9784\n",
      "Epoch 4/100\n",
      "1562/1562 [==============================] - 10s 6ms/step - loss: 0.1806 - acc: 0.9437 - val_loss: 0.0786 - val_acc: 0.9773\n",
      "Epoch 5/100\n",
      "1562/1562 [==============================] - 9s 6ms/step - loss: 0.1600 - acc: 0.9502 - val_loss: 0.0638 - val_acc: 0.9808\n",
      "Epoch 6/100\n",
      "1562/1562 [==============================] - 9s 6ms/step - loss: 0.1507 - acc: 0.9533 - val_loss: 0.0615 - val_acc: 0.9823\n",
      "Epoch 7/100\n",
      "1562/1562 [==============================] - 9s 6ms/step - loss: 0.1403 - acc: 0.9566 - val_loss: 0.0420 - val_acc: 0.9865\n",
      "Epoch 8/100\n",
      "1562/1562 [==============================] - 9s 6ms/step - loss: 0.1374 - acc: 0.9574 - val_loss: 0.0382 - val_acc: 0.9880\n",
      "Epoch 9/100\n",
      "1562/1562 [==============================] - 9s 6ms/step - loss: 0.1284 - acc: 0.9601 - val_loss: 0.0519 - val_acc: 0.9832\n",
      "Epoch 10/100\n",
      "1562/1562 [==============================] - 9s 6ms/step - loss: 0.1217 - acc: 0.9611 - val_loss: 0.0450 - val_acc: 0.9857\n",
      "Epoch 11/100\n",
      "1562/1562 [==============================] - 10s 6ms/step - loss: 0.1180 - acc: 0.9633 - val_loss: 0.0375 - val_acc: 0.9888\n",
      "Epoch 12/100\n",
      "1562/1562 [==============================] - 10s 6ms/step - loss: 0.1197 - acc: 0.9629 - val_loss: 0.0490 - val_acc: 0.9855\n",
      "Epoch 13/100\n",
      "1562/1562 [==============================] - 10s 6ms/step - loss: 0.1129 - acc: 0.9646 - val_loss: 0.0350 - val_acc: 0.9888\n",
      "Epoch 14/100\n",
      "1562/1562 [==============================] - 10s 6ms/step - loss: 0.1106 - acc: 0.9643 - val_loss: 0.0376 - val_acc: 0.9883\n",
      "Epoch 15/100\n",
      "1562/1562 [==============================] - 10s 6ms/step - loss: 0.1061 - acc: 0.9673 - val_loss: 0.0343 - val_acc: 0.9892\n",
      "Epoch 16/100\n",
      "1562/1562 [==============================] - 9s 6ms/step - loss: 0.1055 - acc: 0.9664 - val_loss: 0.0395 - val_acc: 0.9882\n",
      "Epoch 17/100\n",
      "1562/1562 [==============================] - 10s 6ms/step - loss: 0.1017 - acc: 0.9690 - val_loss: 0.0385 - val_acc: 0.9885\n",
      "Epoch 18/100\n",
      "1562/1562 [==============================] - 9s 6ms/step - loss: 0.1027 - acc: 0.9676 - val_loss: 0.0393 - val_acc: 0.9885\n",
      "Epoch 19/100\n",
      "1562/1562 [==============================] - 9s 6ms/step - loss: 0.0996 - acc: 0.9687 - val_loss: 0.0350 - val_acc: 0.9891\n",
      "Epoch 20/100\n",
      "1562/1562 [==============================] - 9s 6ms/step - loss: 0.0984 - acc: 0.9692 - val_loss: 0.0358 - val_acc: 0.9902\n",
      "Epoch 21/100\n",
      "1562/1562 [==============================] - 9s 6ms/step - loss: 0.1003 - acc: 0.9688 - val_loss: 0.0312 - val_acc: 0.9909\n",
      "Epoch 22/100\n",
      "1562/1562 [==============================] - 10s 6ms/step - loss: 0.0973 - acc: 0.9702 - val_loss: 0.0319 - val_acc: 0.9901\n",
      "Epoch 23/100\n",
      "1562/1562 [==============================] - 10s 6ms/step - loss: 0.0935 - acc: 0.9705 - val_loss: 0.0341 - val_acc: 0.9893\n",
      "Epoch 24/100\n",
      "1562/1562 [==============================] - 16s 10ms/step - loss: 0.0967 - acc: 0.9706 - val_loss: 0.0394 - val_acc: 0.9881\n",
      "Epoch 25/100\n",
      "1562/1562 [==============================] - 45s 29ms/step - loss: 0.0928 - acc: 0.9710 - val_loss: 0.0325 - val_acc: 0.9899\n",
      "Epoch 26/100\n",
      "1562/1562 [==============================] - 10s 6ms/step - loss: 0.0930 - acc: 0.9708 - val_loss: 0.0298 - val_acc: 0.9916\n",
      "Epoch 27/100\n",
      "1562/1562 [==============================] - 10s 6ms/step - loss: 0.0911 - acc: 0.9714 - val_loss: 0.0386 - val_acc: 0.9879\n",
      "Epoch 28/100\n",
      "1562/1562 [==============================] - 21s 14ms/step - loss: 0.0875 - acc: 0.9726 - val_loss: 0.0376 - val_acc: 0.9886\n",
      "Epoch 29/100\n",
      "1562/1562 [==============================] - 10s 7ms/step - loss: 0.0948 - acc: 0.9712 - val_loss: 0.0319 - val_acc: 0.9900\n",
      "Epoch 30/100\n",
      "1562/1562 [==============================] - 10s 6ms/step - loss: 0.0899 - acc: 0.9718 - val_loss: 0.0313 - val_acc: 0.9903\n",
      "Epoch 31/100\n",
      "1562/1562 [==============================] - 10s 6ms/step - loss: 0.0868 - acc: 0.9730 - val_loss: 0.0316 - val_acc: 0.9905\n"
     ]
    },
    {
     "data": {
      "text/plain": [
       "<keras.callbacks.History at 0x1dd190c6e80>"
      ]
     },
     "execution_count": 18,
     "metadata": {},
     "output_type": "execute_result"
    }
   ],
   "source": [
    "from tensorflow.keras.callbacks import EarlyStopping\n",
    "\n",
    "early_stopper = EarlyStopping(monitor = \"val_acc\", mode = \"max\", patience = 5, restore_best_weights = True) # loss = min, acc = max\n",
    "\n",
    "model.fit(\n",
    "    train_val_generator,\n",
    "    steps_per_epoch = steps_per_epoch,\n",
    "    epochs = 100,\n",
    "    callbacks = [early_stopper],\n",
    "    validation_data = val_generator,\n",
    "    validation_steps = validation_steps\n",
    ")"
   ]
  },
  {
   "cell_type": "code",
   "execution_count": 19,
   "metadata": {},
   "outputs": [],
   "source": [
    "metrics = pd.DataFrame(model.history.history)"
   ]
  },
  {
   "cell_type": "code",
   "execution_count": 21,
   "metadata": {},
   "outputs": [
    {
     "data": {
      "image/png": "[encoded data removed]",
      "text/plain": [
       "<Figure size 864x288 with 2 Axes>"
      ]
     },
     "metadata": {
      "needs_background": "light"
     },
     "output_type": "display_data"
    }
   ],
   "source": [
    "def plot_metrics(metrics):\n",
    "     _, ax = plt.subplots(1, 2, figsize = (12, 4))\n",
    "     metrics[[\"loss\", \"val_loss\"]].plot(ax = ax[0], grid = True)\n",
    "     metrics[[\"acc\", \"val_acc\"]].plot(ax = ax[1], grid = True)\n",
    "     \n",
    "plot_metrics(metrics)"
   ]
  },
  {
   "cell_type": "markdown",
   "metadata": {},
   "source": [
    "## Train on all training data"
   ]
  },
  {
   "cell_type": "code",
   "execution_count": 22,
   "metadata": {},
   "outputs": [],
   "source": [
    "train_generator = train_image_generator.flow(X_train, y_train, batch_size = 32)"
   ]
  },
  {
   "cell_type": "code",
   "execution_count": 23,
   "metadata": {},
   "outputs": [
    {
     "name": "stdout",
     "output_type": "stream",
     "text": [
      "Epoch 1/15\n",
      "1562/1562 [==============================] - 10s 6ms/step - loss: 0.6414 - acc: 0.7897\n",
      "Epoch 2/15\n",
      "1562/1562 [==============================] - 9s 6ms/step - loss: 0.2630 - acc: 0.9156\n",
      "Epoch 3/15\n",
      "1562/1562 [==============================] - 10s 6ms/step - loss: 0.2066 - acc: 0.9341\n",
      "Epoch 4/15\n",
      "1562/1562 [==============================] - 9s 6ms/step - loss: 0.1773 - acc: 0.9443\n",
      "Epoch 5/15\n",
      "1562/1562 [==============================] - 9s 6ms/step - loss: 0.1642 - acc: 0.9494\n",
      "Epoch 6/15\n",
      "1562/1562 [==============================] - 9s 6ms/step - loss: 0.1480 - acc: 0.9529\n",
      "Epoch 7/15\n",
      "1562/1562 [==============================] - 9s 6ms/step - loss: 0.1397 - acc: 0.9565\n",
      "Epoch 8/15\n",
      "1562/1562 [==============================] - 9s 6ms/step - loss: 0.1301 - acc: 0.9591\n",
      "Epoch 9/15\n",
      "1562/1562 [==============================] - 9s 6ms/step - loss: 0.1281 - acc: 0.9600\n",
      "Epoch 10/15\n",
      "1562/1562 [==============================] - 9s 6ms/step - loss: 0.1221 - acc: 0.9622\n",
      "Epoch 11/15\n",
      "1562/1562 [==============================] - 9s 6ms/step - loss: 0.1225 - acc: 0.9625\n",
      "Epoch 12/15\n",
      "1562/1562 [==============================] - 9s 6ms/step - loss: 0.1156 - acc: 0.9638\n",
      "Epoch 13/15\n",
      "1562/1562 [==============================] - 9s 6ms/step - loss: 0.1120 - acc: 0.9657\n",
      "Epoch 14/15\n",
      "1562/1562 [==============================] - 9s 6ms/step - loss: 0.1090 - acc: 0.9662\n",
      "Epoch 15/15\n",
      "1562/1562 [==============================] - 9s 6ms/step - loss: 0.1064 - acc: 0.9667\n"
     ]
    },
    {
     "data": {
      "text/plain": [
       "<keras.callbacks.History at 0x1dd16c56580>"
      ]
     },
     "execution_count": 23,
     "metadata": {},
     "output_type": "execute_result"
    }
   ],
   "source": [
    "model = CNN_model()\n",
    "model.fit(train_generator, steps_per_epoch = steps_per_epoch, epochs = 15)"
   ]
  },
  {
   "cell_type": "markdown",
   "metadata": {},
   "source": [
    "## Evaluation"
   ]
  },
  {
   "cell_type": "code",
   "execution_count": 24,
   "metadata": {},
   "outputs": [],
   "source": [
    "from sklearn.metrics import classification_report, confusion_matrix, ConfusionMatrixDisplay"
   ]
  },
  {
   "cell_type": "code",
   "execution_count": 25,
   "metadata": {},
   "outputs": [
    {
     "name": "stdout",
     "output_type": "stream",
     "text": [
      "              precision    recall  f1-score   support\n",
      "\n",
      "           0       0.99      0.99      0.99       980\n",
      "           1       0.99      0.99      0.99      1135\n",
      "           2       0.99      0.99      0.99      1032\n",
      "           3       0.98      1.00      0.99      1010\n",
      "           4       0.99      0.99      0.99       982\n",
      "           5       1.00      0.99      0.99       892\n",
      "           6       1.00      0.98      0.99       958\n",
      "           7       0.99      0.99      0.99      1028\n",
      "           8       0.99      1.00      0.99       974\n",
      "           9       0.99      0.98      0.99      1009\n",
      "\n",
      "    accuracy                           0.99     10000\n",
      "   macro avg       0.99      0.99      0.99     10000\n",
      "weighted avg       0.99      0.99      0.99     10000\n",
      "\n"
     ]
    },
    {
     "data": {
      "text/plain": [
       "<sklearn.metrics._plot.confusion_matrix.ConfusionMatrixDisplay at 0x1dd18b710d0>"
      ]
     },
     "execution_count": 25,
     "metadata": {},
     "output_type": "execute_result"
    },
    {
     "data": {
      "image/png": "[encoded data removed]",
      "text/plain": [
       "<Figure size 432x288 with 2 Axes>"
      ]
     },
     "metadata": {
      "needs_background": "light"
     },
     "output_type": "display_data"
    }
   ],
   "source": [
    "y_pred = model.predict(X_test)\n",
    "y_pred = np.argmax(y_pred, axis = 1)\n",
    "\n",
    "print(classification_report(y_test, y_pred))\n",
    "\n",
    "cm = confusion_matrix(y_test, y_pred)\n",
    "ConfusionMatrixDisplay(cm).plot()"
   ]
  }
 ],
 "metadata": {
  "interpreter": {
   "hash": "b4a9b2b7bea2d6cf1732e611370b58e4aa7f73eb603d9aecb8476534400634d6"
  },
  "kernelspec": {
   "display_name": "Python 3.9.7 ('Deep_learning_Christopher_Seander-2eZKJ0l2')",
   "language": "python",
   "name": "python3"
  },
  "language_info": {
   "codemirror_mode": {
    "name": "ipython",
    "version": 3
   },
   "file_extension": ".py",
   "mimetype": "text/x-python",
   "name": "python",
   "nbconvert_exporter": "python",
   "pygments_lexer": "ipython3",
   "version": "3.9.7"
  },
  "orig_nbformat": 4
 },
 "nbformat": 4,
 "nbformat_minor": 2
}
